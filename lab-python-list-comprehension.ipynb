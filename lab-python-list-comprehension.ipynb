{
 "cells": [
  {
   "cell_type": "markdown",
   "id": "25d7736c-ba17-4aff-b6bb-66eba20fbf4e",
   "metadata": {},
   "source": [
    "# Lab | List, Dict and Set Comprehension"
   ]
  },
  {
   "cell_type": "markdown",
   "id": "7dd3cbde-675a-4b81-92c3-f728846dbe06",
   "metadata": {},
   "source": [
    "## Exercise: Managing Customer Orders Optimized with Comprehension"
   ]
  },
  {
   "cell_type": "markdown",
   "id": "5d500160-2fb7-4777-b5e4-09d45ebaf328",
   "metadata": {},
   "source": [
    "\n",
    "In the previous exercise, you developed a program to manage customer orders and inventory. Now, let's take it a step further and incorporate comprehension into your code.\n",
    "\n",
    "Follow the steps below to complete the exercise:\n",
    "\n",
    "1. Review your code from the previous exercise and identify areas where you can apply comprehension to simplify and streamline your code. \n",
    "\n",
    "    - *Hint: Apply it to initialize inventory, updating the inventory and printing the updated inventory.*\n",
    "    \n",
    "    - For example, in initializing the inventory, we could have:\n",
    "    \n",
    "        ```python\n",
    "        def initialize_inventory(products):\n",
    "            inventory = {product: int(input(f\"Enter the quantity of {product}s available: \")) for product in products}\n",
    "            return inventory\n",
    "\n",
    "        ```\n",
    "<br>\n",
    "    \n",
    "    \n",
    "2. Modify the function get_customer_orders so it prompts the user to enter the number of customer orders and gathers the product names using a loop and user input. Use comprehension.\n",
    "\n",
    "3. Add a new function to calculate the total price of the customer order. For each product in customer_orders, prompt the user to enter the price of that product. Use comprehension to calculate the total price. Note: assume that the user can only have 1 unit of each product.\n",
    "\n",
    "4. Modify the update_inventory function to remove the product from the inventory if its quantity becomes zero after fulfilling the customer orders. Use comprehension to filter out the products with a quantity of zero from the inventory.\n",
    "\n",
    "5. Print the total price of the customer order.\n",
    "\n",
    "Your code should produce output similar to the following:\n",
    "\n",
    "```python\n",
    "Enter the quantity of t-shirts available:  5\n",
    "Enter the quantity of mugs available:  4\n",
    "Enter the quantity of hats available:  3\n",
    "Enter the quantity of books available:  2\n",
    "Enter the quantity of keychains available:  1\n",
    "Enter the number of customer orders:  2\n",
    "Enter the name of a product that a customer wants to order:  hat\n",
    "Enter the name of a product that a customer wants to order:  keychain\n",
    "\n",
    "Order Statistics:\n",
    "Total Products Ordered: 2\n",
    "Percentage of Unique Products Ordered: 40.0\n",
    "\n",
    "Updated Inventory:\n",
    "t-shirt: 5\n",
    "mug: 4\n",
    "hat: 2\n",
    "book: 2\n",
    "Enter the price of keychain:  5\n",
    "Enter the price of hat:  10\n",
    "Total Price: 15.0\n",
    "\n",
    "```\n"
   ]
  },
  {
   "cell_type": "code",
   "execution_count": 28,
   "id": "09920b2b-bdc6-4977-826b-38287dd50eff",
   "metadata": {},
   "outputs": [
    {
     "name": "stdin",
     "output_type": "stream",
     "text": [
      "Enter the number of t-shirt:  2\n",
      "Enter the number of mug:  2\n",
      "Enter the number of hat:  2\n",
      "Enter the number of book:  2\n",
      "Enter the number of keychain:  2\n"
     ]
    }
   ],
   "source": [
    "\n",
    "# 1. Review your code from the previous exercise and identify areas where you can apply comprehension to simplify and streamline your code.\n",
    "products = [\"t-shirt\", \"mug\", \"hat\", \"book\", \"keychain\"]\n",
    "\n",
    "inventory = {product:int(input(f\"Enter the number of {product}: \")) for product in products}"
   ]
  },
  {
   "cell_type": "code",
   "execution_count": 4,
   "id": "0caa849d-eac3-4241-a8e3-f83e317654b9",
   "metadata": {},
   "outputs": [
    {
     "data": {
      "text/plain": [
       "{'t-shirt': 2, 'mug': 2, 'hat': 2, 'book': 2, 'keychain': 2}"
      ]
     },
     "execution_count": 4,
     "metadata": {},
     "output_type": "execute_result"
    }
   ],
   "source": [
    "inventory\n"
   ]
  },
  {
   "cell_type": "code",
   "execution_count": 40,
   "id": "9a94484e-b908-4726-ab34-585833f0d360",
   "metadata": {},
   "outputs": [
    {
     "name": "stdin",
     "output_type": "stream",
     "text": [
      "Enter the number of products you want to enter:  2\n",
      "Enter the name of product you want to order:  book\n",
      "Enter the name of product you want to order:  hat\n"
     ]
    },
    {
     "data": {
      "text/plain": [
       "['book', 'hat']"
      ]
     },
     "execution_count": 40,
     "metadata": {},
     "output_type": "execute_result"
    }
   ],
   "source": [
    "# 2. Modify the function get_customer_orders so it prompts the user to enter the number of customer orders and gathers the product names using a loop \n",
    "     # and user input. Use comprehension.\n",
    "number_of_product =int(input(\"Enter the number of products you want to enter: \"))\n",
    "customers_order = [  input(\"Enter the name of product you want to order: \") for x in range(0,number_of_product)]\n",
    "customers_order"
   ]
  },
  {
   "cell_type": "code",
   "execution_count": 32,
   "id": "44e5c20a-68cb-43bc-b5e4-0756dcb4dae1",
   "metadata": {},
   "outputs": [],
   "source": [
    "# 3. Add a new function to calculate the total price of the customer order. \n",
    "    # For each product in customer_orders, prompt the user to enter the price of that product. \n",
    "    # Use comprehension to calculate the total price. Note: assume that the user can only have 1 unit of each product.\n",
    "\n",
    "\n",
    "def calculate_price():\n",
    "    price_list = [int(input(f\"Enter the price for {element}: \"))  for element in customers_order] \n",
    "    total_price= 0\n",
    "    for element in price_list:\n",
    "        total_price = total_price + element\n",
    "    return (f\"The total price of customer's order is :{total_price}\")\n"
   ]
  },
  {
   "cell_type": "code",
   "execution_count": 34,
   "id": "4718792f-877b-4057-be0c-993df83407ad",
   "metadata": {},
   "outputs": [
    {
     "name": "stdin",
     "output_type": "stream",
     "text": [
      "Enter the price for book :  20\n",
      "Enter the price for mug:  30\n"
     ]
    },
    {
     "data": {
      "text/plain": [
       "\"The total price of customer's order is :50\""
      ]
     },
     "execution_count": 34,
     "metadata": {},
     "output_type": "execute_result"
    }
   ],
   "source": [
    "calculate_price()"
   ]
  },
  {
   "cell_type": "code",
   "execution_count": 42,
   "id": "4ea974a6-5c74-477e-baff-1189e0017450",
   "metadata": {},
   "outputs": [],
   "source": [
    "#4. Modify the update_inventory function to remove the product from the inventory if its quantity becomes zero after fulfilling the customer orders.\n",
    "    #Use comprehension to filter out the products with a quantity of zero from the inventory.\n",
    "\n",
    "def update_inventory(customers_order,inventory):\n",
    "     \n",
    "    for element in customers_order:\n",
    "        inventory[element] -= 1       \n",
    "    return \n",
    "\n",
    "update_inventory(customers_order,inventory)\n",
    "\n",
    "\n",
    "\n"
   ]
  },
  {
   "cell_type": "code",
   "execution_count": 54,
   "id": "5179b3f9-0414-4218-83e9-84975c083992",
   "metadata": {},
   "outputs": [
    {
     "data": {
      "text/plain": [
       "{'t-shirt': 2, 'mug': 2, 'hat': 1, 'book': 1, 'keychain': 2}"
      ]
     },
     "execution_count": 54,
     "metadata": {},
     "output_type": "execute_result"
    }
   ],
   "source": [
    "def update_inventory(customers_order, inventory):\n",
    "    \n",
    "    updated_inventory = {element:(inventory.pop(element) if inventory[element]<1 else inventory[element])    for element in inventory }\n",
    "    \n",
    "    return updated_inventory\n",
    "\n",
    "update_inventory(customers_order,inventory)\n",
    "\n",
    "\n"
   ]
  },
  {
   "cell_type": "code",
   "execution_count": null,
   "id": "2f18f6aa-c426-4324-be1b-5d9c6b95fdc4",
   "metadata": {},
   "outputs": [],
   "source": [
    "products = [\"t-shirt\", \"mug\", \"hat\", \"book\", \"keychain\"]\n",
    "inventory = {product:int(input(f\"Enter the number of {product}: \")) for product in products}\n",
    "number_of_product =int(input(\"Enter the number of products you want to enter: \"))\n",
    "customers_order = [  input(\"Enter the name of product you want to order: \") for x in range(0,number_of_product)]\n",
    "def calculate_price():\n",
    "    price_list = [int(input(f\"Enter the price for {element}: \"))  for element in customers_order] \n",
    "    total_price= 0\n",
    "    for element in price_list:\n",
    "        total_price = total_price + element\n",
    "    return (f\"The total price of customer's order is :{total_price}\")"
   ]
  }
 ],
 "metadata": {
  "kernelspec": {
   "display_name": "Python 3 (ipykernel)",
   "language": "python",
   "name": "python3"
  },
  "language_info": {
   "codemirror_mode": {
    "name": "ipython",
    "version": 3
   },
   "file_extension": ".py",
   "mimetype": "text/x-python",
   "name": "python",
   "nbconvert_exporter": "python",
   "pygments_lexer": "ipython3",
   "version": "3.11.7"
  }
 },
 "nbformat": 4,
 "nbformat_minor": 5
}
